{
 "cells": [
  {
   "cell_type": "markdown",
   "metadata": {},
   "source": [
    "### Using Python and R Together"
   ]
  },
  {
   "cell_type": "markdown",
   "metadata": {},
   "source": [
    "Python has many tools not available in R and some tools that work more efficiently or intuitively than in R. For instance, in the `nao` Jupyter Notebook I use Python to generate the base map for Figure 4 of Fastovich et al., 2020, GRL because Python modules like `xarray` make working with mutlidimensional netCDF files a breeze. One line of code using `xarray` would be 30+ lines of R code. But Python isn't all great - many of the modules lack the polish and ease of use of many R packages. In the `nao` notebook I run a regression using a single line of code just as in R. However, this does not automatically perform any diagnostics, produce diagnostic plots, or even summarize the results. Leveraging the strenghts and weakness of each language is possible using Jupyter notebooks!\n",
    "\n",
    "Here, we'll be using Python to read in a netCDF file and plot it using `ggplot2` in R. Why use `ggplot2` instead of plotting in R? Because no Python modules make plotting as simple as `ggplot2`."
   ]
  },
  {
   "cell_type": "code",
   "execution_count": null,
   "metadata": {},
   "outputs": [],
   "source": [
    "# We'll be calling R from within Python, so load necessary Python modules\n",
    "\n",
    "import rpy2.rinterface\n",
    "import xarray\n",
    "%load_ext rpy2.ipython"
   ]
  },
  {
   "cell_type": "code",
   "execution_count": 1,
   "metadata": {},
   "outputs": [
    {
     "name": "stdout",
     "output_type": "stream",
     "text": [
      "[1, 2, 3, 4, 5, 6, 7, 8, 9, 10]\n"
     ]
    }
   ],
   "source": [
    "a = [1, 2, 3, 4, 5, 6, 7, 8, 9, 10]\n",
    "\n",
    "print(a)"
   ]
  },
  {
   "cell_type": "code",
   "execution_count": 2,
   "metadata": {},
   "outputs": [
    {
     "name": "stderr",
     "output_type": "stream",
     "text": [
      "UsageError: Cell magic `%%Rpush` not found.\n"
     ]
    }
   ],
   "source": [
    "%%Rpush a\n",
    "\n",
    "# library(\"ggplot2\")\n",
    "a = 1:10\n",
    "plot(a)"
   ]
  }
 ],
 "metadata": {
  "kernelspec": {
   "display_name": "Python 3",
   "language": "python",
   "name": "python3"
  },
  "language_info": {
   "codemirror_mode": {
    "name": "ipython",
    "version": 3
   },
   "file_extension": ".py",
   "mimetype": "text/x-python",
   "name": "python",
   "nbconvert_exporter": "python",
   "pygments_lexer": "ipython3",
   "version": "3.8.5"
  }
 },
 "nbformat": 4,
 "nbformat_minor": 4
}
